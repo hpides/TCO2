{
 "cells": [
  {
   "cell_type": "code",
   "execution_count": null,
   "metadata": {},
   "outputs": [],
   "source": [
    "!pip install pandas duckdb matplotlib\n",
    "\n",
    "import pandas as pd\n",
    "import duckdb\n",
    "import os\n",
    "import matplotlib.pyplot as plt"
   ]
  },
  {
   "cell_type": "code",
   "execution_count": null,
   "metadata": {},
   "outputs": [],
   "source": [
    "con = duckdb.connect(\"../spec.db\") # assumes DuckDB DB \"spec.db\" in root dir\n",
    "con.sql(\"DROP TABLE IF EXISTS spec\")\n",
    "con.sql(\"CREATE TABLE spec AS SELECT * FROM df_combined\")\n",
    "con.close()"
   ]
  }
 ],
 "metadata": {
  "language_info": {
   "name": "python"
  }
 },
 "nbformat": 4,
 "nbformat_minor": 2
}
